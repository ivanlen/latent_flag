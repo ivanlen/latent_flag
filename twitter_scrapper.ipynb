{
 "cells": [
  {
   "cell_type": "markdown",
   "metadata": {},
   "source": [
    "You have to add a file `keys.py` containing your keys:\n",
    "\n",
    "``` python\n",
    "API_KEY = 'API_KEY'\n",
    "API_SECRET = 'API_SECRET'\n",
    "ACCES_TOKEN = 'ACCES_TOKEN'\n",
    "ACCES_TOKEN_SECRET = 'ACCES_TOKEN_SECRET'\n",
    "```"
   ]
  },
  {
   "cell_type": "code",
   "execution_count": null,
   "metadata": {},
   "outputs": [],
   "source": [
    "import tweepy\n",
    "import keys as keys\n",
    "import os\n",
    "import urllib\n",
    "import time\n",
    "from progressbar import progressbar"
   ]
  },
  {
   "cell_type": "code",
   "execution_count": null,
   "metadata": {},
   "outputs": [],
   "source": [
    "twitter_auth_keys = {\n",
    "    \"consumer_key\": keys.API_KEY,\n",
    "    \"consumer_secret\": keys.API_SECRET,\n",
    "    \"access_token\": keys.ACCES_TOKEN,\n",
    "    \"access_token_secret\": keys.ACCES_TOKEN_SECRET\n",
    "}\n",
    "auth = tweepy.OAuthHandler(\n",
    "    twitter_auth_keys['consumer_key'],\n",
    "    twitter_auth_keys['consumer_secret']\n",
    ")\n",
    "auth.set_access_token(\n",
    "    twitter_auth_keys['access_token'],\n",
    "    twitter_auth_keys['access_token_secret']\n",
    ")\n",
    "api = tweepy.API(auth)"
   ]
  },
  {
   "cell_type": "code",
   "execution_count": null,
   "metadata": {},
   "outputs": [],
   "source": [
    "valids_image_types = ('jpg', 'png')\n",
    "def get_image_url_from_tweet(tweet):    \n",
    "    valids = []\n",
    "    if 'media' in tweet.entities:\n",
    "        for media in tweet.entities['media']:\n",
    "            if media['media_url'].endswith(valids_image_types):\n",
    "                if 'tweet_video_thumb' in media['media_url']:\n",
    "                    pass\n",
    "                else:\n",
    "                    tweet_data = {'tweet_id': tweet.id,\n",
    "                                 'media_url': media['media_url']}\n",
    "                    valids.append(tweet_data)\n",
    "    return valids"
   ]
  },
  {
   "cell_type": "code",
   "execution_count": null,
   "metadata": {},
   "outputs": [],
   "source": [
    "user_name = 'FlagsMashupBot'\n",
    "data_path = './data/{}/raw/'.format(user_name)\n",
    "os.makedirs(data_path, exist_ok=True)"
   ]
  },
  {
   "cell_type": "code",
   "execution_count": null,
   "metadata": {},
   "outputs": [],
   "source": [
    "# tweets = api.user_timeline(screen_name=user_name, count=100, )"
   ]
  },
  {
   "cell_type": "markdown",
   "metadata": {},
   "source": [
    "#### get images urls"
   ]
  },
  {
   "cell_type": "code",
   "execution_count": null,
   "metadata": {},
   "outputs": [],
   "source": [
    "current_media = os.listdir(data_path)\n",
    "oldest_id = min([int(m.split('.')[0]) for m in current_media]) if len(current_media)>0 else None"
   ]
  },
  {
   "cell_type": "code",
   "execution_count": null,
   "metadata": {},
   "outputs": [],
   "source": [
    "tweet_count = 0\n",
    "max_tweets = 5000\n",
    "tweets_per_query = 100\n",
    "# oldest_id = min([int(m.split('.')[0]) for m in current_media]) if len(current_media)>0 else None\n",
    "oldest_id = None\n",
    "\n",
    "images_urls = []\n",
    "\n",
    "api_kwargs = {\n",
    "    'screen_name': user_name,\n",
    "    'tweet_mode': 'extended',\n",
    "    'count': tweets_per_query}\n",
    "\n",
    "while tweet_count < max_tweets:\n",
    "    print(oldest_id)\n",
    "    if not oldest_id:\n",
    "        tweets = api.user_timeline(**api_kwargs)\n",
    "    else:\n",
    "        tweets = api.user_timeline(max_id=oldest_id-1, **api_kwargs)\n",
    "    for tweet in tweets:\n",
    "        images_urls += get_image_url_from_tweet(tweet)\n",
    "    oldest_id = min([int(t.id) for t in tweets])\n",
    "    tweet_count +=len(tweets)\n",
    "\n",
    "\n",
    "    \n",
    "        "
   ]
  },
  {
   "cell_type": "code",
   "execution_count": null,
   "metadata": {},
   "outputs": [],
   "source": [
    "# tweets = api.user_timeline(since_id=100, **api_kwargs)\n",
    "# [t.id for t in tweets]"
   ]
  },
  {
   "cell_type": "markdown",
   "metadata": {},
   "source": [
    "#### download images from urls"
   ]
  },
  {
   "cell_type": "code",
   "execution_count": null,
   "metadata": {},
   "outputs": [],
   "source": [
    "for media in progressbar(images_urls):    \n",
    "    file_ext = media['media_url'].split('.')[-1]\n",
    "    file_name = '{}.{}'.format(media['tweet_id'], file_ext)\n",
    "    file_path = '{}/{}'.format(data_path, file_name)\n",
    "#     urllib.request.urlretrieve(media['media_url'], file_path)\n",
    "#     ----\n",
    "#     r = requests.get(media['media_url'])\n",
    "#     open(file_path, 'wb').write(r.content)\n",
    "    current_media = os.listdir(data_path)\n",
    "    if file_name not in current_media:\n",
    "        os.system('wget -O {} {}'.format(file_path, media['media_url']))\n",
    "#         time.sleep(0.1)\n",
    "    "
   ]
  },
  {
   "cell_type": "code",
   "execution_count": null,
   "metadata": {},
   "outputs": [],
   "source": []
  },
  {
   "cell_type": "code",
   "execution_count": null,
   "metadata": {},
   "outputs": [],
   "source": []
  }
 ],
 "metadata": {
  "kernelspec": {
   "display_name": "Python 3",
   "language": "python",
   "name": "python3"
  },
  "language_info": {
   "codemirror_mode": {
    "name": "ipython",
    "version": 3
   },
   "file_extension": ".py",
   "mimetype": "text/x-python",
   "name": "python",
   "nbconvert_exporter": "python",
   "pygments_lexer": "ipython3",
   "version": "3.7.6"
  }
 },
 "nbformat": 4,
 "nbformat_minor": 4
}
