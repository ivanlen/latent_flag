{
 "cells": [
  {
   "cell_type": "code",
   "execution_count": 1,
   "metadata": {},
   "outputs": [],
   "source": [
    "import tweepy\n",
    "import keys as keys\n",
    "import os\n",
    "import urllib\n",
    "import time\n",
    "from progressbar import progressbar"
   ]
  },
  {
   "cell_type": "code",
   "execution_count": 2,
   "metadata": {},
   "outputs": [],
   "source": [
    "twitter_auth_keys = {\n",
    "    \"consumer_key\": keys.API_KEY,\n",
    "    \"consumer_secret\": keys.API_SECRET,\n",
    "    \"access_token\": keys.ACCES_TOKEN,\n",
    "    \"access_token_secret\": keys.ACCES_TOKEN_SECRET\n",
    "}\n",
    "auth = tweepy.OAuthHandler(\n",
    "    twitter_auth_keys['consumer_key'],\n",
    "    twitter_auth_keys['consumer_secret']\n",
    ")\n",
    "auth.set_access_token(\n",
    "    twitter_auth_keys['access_token'],\n",
    "    twitter_auth_keys['access_token_secret']\n",
    ")\n",
    "api = tweepy.API(auth)"
   ]
  },
  {
   "cell_type": "code",
   "execution_count": 3,
   "metadata": {},
   "outputs": [],
   "source": [
    "valids_image_types = ('jpg', 'png')\n",
    "def get_image_url_from_tweet(tweet):    \n",
    "    valids = []\n",
    "    if 'media' in tweet.entities:\n",
    "        for media in tweet.entities['media']:\n",
    "            if media['media_url'].endswith(valids_image_types):\n",
    "                if 'tweet_video_thumb' in media['media_url']:\n",
    "                    pass\n",
    "                else:\n",
    "                    tweet_data = {'tweet_id': tweet.id,\n",
    "                                 'media_url': media['media_url']}\n",
    "                    valids.append(tweet_data)\n",
    "    return valids"
   ]
  },
  {
   "cell_type": "code",
   "execution_count": 4,
   "metadata": {},
   "outputs": [],
   "source": [
    "user_name = 'FlagsMashupBot'\n",
    "data_path = './data/{}/raw/'.format(user_name)\n",
    "os.makedirs(data_path, exist_ok=True)"
   ]
  },
  {
   "cell_type": "code",
   "execution_count": 5,
   "metadata": {},
   "outputs": [],
   "source": [
    "# tweets = api.user_timeline(screen_name=user_name, count=100, )"
   ]
  },
  {
   "cell_type": "markdown",
   "metadata": {},
   "source": [
    "#### get images urls"
   ]
  },
  {
   "cell_type": "code",
   "execution_count": 6,
   "metadata": {},
   "outputs": [],
   "source": [
    "current_media = os.listdir(data_path)\n",
    "oldest_id = min([int(m.split('.')[0]) for m in current_media]) if len(current_media)>0 else None"
   ]
  },
  {
   "cell_type": "code",
   "execution_count": 12,
   "metadata": {},
   "outputs": [
    {
     "name": "stdout",
     "output_type": "stream",
     "text": [
      "None\n",
      "1230859749073268738\n",
      "1230361456291565568\n",
      "1229873235065540608\n",
      "1229334686373208067\n",
      "1228836408175026176\n",
      "1228317991370096643\n",
      "1227824736085905408\n",
      "1227326457006972928\n",
      "1226772804781121537\n",
      "1226249360834469888\n",
      "1225761162383495168\n",
      "1225237692893552640\n",
      "1224699143517589510\n",
      "1224175690838368257\n",
      "1223642177517051906\n",
      "1223123759520997376\n",
      "1222605350727274498\n",
      "1222091964323192837\n",
      "1221563482245672966\n",
      "1221065197575704576\n",
      "1220541750562951168\n",
      "1220038430370955264\n",
      "1219530098023522304\n",
      "1219011668665077760\n",
      "1218503317275455490\n",
      "1218000002389331968\n",
      "1217481584934256640\n",
      "1216978267577769985\n",
      "1216464886559133698\n",
      "1215961567566671873\n",
      "1215463286214483968\n",
      "1214965003939397633\n",
      "1214778776468500480\n"
     ]
    },
    {
     "ename": "ValueError",
     "evalue": "min() arg is an empty sequence",
     "output_type": "error",
     "traceback": [
      "\u001b[0;31m---------------------------------------------------------------------------\u001b[0m",
      "\u001b[0;31mValueError\u001b[0m                                Traceback (most recent call last)",
      "\u001b[0;32m<ipython-input-12-b2454143a80d>\u001b[0m in \u001b[0;36m<module>\u001b[0;34m\u001b[0m\n\u001b[1;32m     20\u001b[0m     \u001b[0;32mfor\u001b[0m \u001b[0mtweet\u001b[0m \u001b[0;32min\u001b[0m \u001b[0mtweets\u001b[0m\u001b[0;34m:\u001b[0m\u001b[0;34m\u001b[0m\u001b[0;34m\u001b[0m\u001b[0m\n\u001b[1;32m     21\u001b[0m         \u001b[0mimages_urls\u001b[0m \u001b[0;34m+=\u001b[0m \u001b[0mget_image_url_from_tweet\u001b[0m\u001b[0;34m(\u001b[0m\u001b[0mtweet\u001b[0m\u001b[0;34m)\u001b[0m\u001b[0;34m\u001b[0m\u001b[0;34m\u001b[0m\u001b[0m\n\u001b[0;32m---> 22\u001b[0;31m     \u001b[0moldest_id\u001b[0m \u001b[0;34m=\u001b[0m \u001b[0mmin\u001b[0m\u001b[0;34m(\u001b[0m\u001b[0;34m[\u001b[0m\u001b[0mint\u001b[0m\u001b[0;34m(\u001b[0m\u001b[0mt\u001b[0m\u001b[0;34m.\u001b[0m\u001b[0mid\u001b[0m\u001b[0;34m)\u001b[0m \u001b[0;32mfor\u001b[0m \u001b[0mt\u001b[0m \u001b[0;32min\u001b[0m \u001b[0mtweets\u001b[0m\u001b[0;34m]\u001b[0m\u001b[0;34m)\u001b[0m\u001b[0;34m\u001b[0m\u001b[0;34m\u001b[0m\u001b[0m\n\u001b[0m\u001b[1;32m     23\u001b[0m     \u001b[0mtweet_count\u001b[0m \u001b[0;34m+=\u001b[0m\u001b[0mlen\u001b[0m\u001b[0;34m(\u001b[0m\u001b[0mtweets\u001b[0m\u001b[0;34m)\u001b[0m\u001b[0;34m\u001b[0m\u001b[0;34m\u001b[0m\u001b[0m\n\u001b[1;32m     24\u001b[0m \u001b[0;34m\u001b[0m\u001b[0m\n",
      "\u001b[0;31mValueError\u001b[0m: min() arg is an empty sequence"
     ]
    }
   ],
   "source": [
    "tweet_count = 0\n",
    "max_tweets = 5000\n",
    "tweets_per_query = 100\n",
    "# oldest_id = min([int(m.split('.')[0]) for m in current_media]) if len(current_media)>0 else None\n",
    "oldest_id = None\n",
    "\n",
    "images_urls = []\n",
    "\n",
    "api_kwargs = {\n",
    "    'screen_name': user_name,\n",
    "    'tweet_mode': 'extended',\n",
    "    'count': tweets_per_query}\n",
    "\n",
    "while tweet_count < max_tweets:\n",
    "    print(oldest_id)\n",
    "    if not oldest_id:\n",
    "        tweets = api.user_timeline(**api_kwargs)\n",
    "    else:\n",
    "        tweets = api.user_timeline(max_id=oldest_id-1, **api_kwargs)\n",
    "    for tweet in tweets:\n",
    "        images_urls += get_image_url_from_tweet(tweet)\n",
    "    oldest_id = min([int(t.id) for t in tweets])\n",
    "    tweet_count +=len(tweets)\n",
    "\n",
    "\n",
    "    \n",
    "        "
   ]
  },
  {
   "cell_type": "code",
   "execution_count": 24,
   "metadata": {},
   "outputs": [
    {
     "data": {
      "text/plain": [
       "[1214778776468500480]"
      ]
     },
     "execution_count": 24,
     "metadata": {},
     "output_type": "execute_result"
    }
   ],
   "source": [
    "tweets = api.user_timeline(max_id=1214778776468500480, **api_kwargs)\n",
    "[t.id for t in tweets]"
   ]
  },
  {
   "cell_type": "code",
   "execution_count": 25,
   "metadata": {},
   "outputs": [
    {
     "data": {
      "text/plain": [
       "[Status(_api=<tweepy.api.API object at 0x108233990>, _json={'created_at': 'Wed Jan 08 05:20:04 +0000 2020', 'id': 1214778776468500480, 'id_str': '1214778776468500480', 'full_text': 'Special edition \\n\\nTuamotu Kingdom (1832-1843)\\n+\\nNorth Korea (1948-1992)\\n=\\nTuamotu Korea: https://t.co/mzrRbaM1qf', 'truncated': False, 'display_text_range': [0, 88], 'entities': {'hashtags': [], 'symbols': [], 'user_mentions': [], 'urls': [], 'media': [{'id': 1214778772894965761, 'id_str': '1214778772894965761', 'indices': [89, 112], 'media_url': 'http://pbs.twimg.com/media/ENvC25cW4AECp7p.png', 'media_url_https': 'https://pbs.twimg.com/media/ENvC25cW4AECp7p.png', 'url': 'https://t.co/mzrRbaM1qf', 'display_url': 'pic.twitter.com/mzrRbaM1qf', 'expanded_url': 'https://twitter.com/FlagsMashupBot/status/1214778776468500480/photo/1', 'type': 'photo', 'sizes': {'large': {'w': 2048, 'h': 1217, 'resize': 'fit'}, 'thumb': {'w': 150, 'h': 150, 'resize': 'crop'}, 'small': {'w': 680, 'h': 404, 'resize': 'fit'}, 'medium': {'w': 1200, 'h': 713, 'resize': 'fit'}}}]}, 'extended_entities': {'media': [{'id': 1214778772894965761, 'id_str': '1214778772894965761', 'indices': [89, 112], 'media_url': 'http://pbs.twimg.com/media/ENvC25cW4AECp7p.png', 'media_url_https': 'https://pbs.twimg.com/media/ENvC25cW4AECp7p.png', 'url': 'https://t.co/mzrRbaM1qf', 'display_url': 'pic.twitter.com/mzrRbaM1qf', 'expanded_url': 'https://twitter.com/FlagsMashupBot/status/1214778776468500480/photo/1', 'type': 'photo', 'sizes': {'large': {'w': 2048, 'h': 1217, 'resize': 'fit'}, 'thumb': {'w': 150, 'h': 150, 'resize': 'crop'}, 'small': {'w': 680, 'h': 404, 'resize': 'fit'}, 'medium': {'w': 1200, 'h': 713, 'resize': 'fit'}}}]}, 'source': '<a href=\"https://twitter.com\" rel=\"nofollow\">BotFlags</a>', 'in_reply_to_status_id': None, 'in_reply_to_status_id_str': None, 'in_reply_to_user_id': None, 'in_reply_to_user_id_str': None, 'in_reply_to_screen_name': None, 'user': {'id': 1162495379574857731, 'id_str': '1162495379574857731', 'name': 'Flags Mashup Bot', 'screen_name': 'FlagsMashupBot', 'location': 'Polla, Scotland', 'description': 'Automated bot that creates random flags from 2 existing flags picked randomly.\\nWritten in Python3.\\nOpen DMs for doubts or contact.', 'url': 'https://t.co/oClhcxFPr9', 'entities': {'url': {'urls': [{'url': 'https://t.co/oClhcxFPr9', 'expanded_url': 'http://flagsmashupbot.pythonanywhere.com/', 'display_url': 'flagsmashupbot.pythonanywhere.com', 'indices': [0, 23]}]}, 'description': {'urls': []}}, 'protected': False, 'followers_count': 114622, 'friends_count': 3, 'listed_count': 208, 'created_at': 'Fri Aug 16 22:44:38 +0000 2019', 'favourites_count': 187, 'utc_offset': None, 'time_zone': None, 'geo_enabled': False, 'verified': False, 'statuses_count': 13217, 'lang': None, 'contributors_enabled': False, 'is_translator': False, 'is_translation_enabled': False, 'profile_background_color': 'F5F8FA', 'profile_background_image_url': None, 'profile_background_image_url_https': None, 'profile_background_tile': False, 'profile_image_url': 'http://pbs.twimg.com/profile_images/1164632451773358080/jAImNphZ_normal.jpg', 'profile_image_url_https': 'https://pbs.twimg.com/profile_images/1164632451773358080/jAImNphZ_normal.jpg', 'profile_banner_url': 'https://pbs.twimg.com/profile_banners/1162495379574857731/1571877151', 'profile_link_color': '1DA1F2', 'profile_sidebar_border_color': 'C0DEED', 'profile_sidebar_fill_color': 'DDEEF6', 'profile_text_color': '333333', 'profile_use_background_image': True, 'has_extended_profile': False, 'default_profile': True, 'default_profile_image': False, 'following': False, 'follow_request_sent': False, 'notifications': False, 'translator_type': 'none'}, 'geo': None, 'coordinates': None, 'place': None, 'contributors': None, 'is_quote_status': False, 'retweet_count': 1, 'favorite_count': 34, 'favorited': False, 'retweeted': False, 'possibly_sensitive': False, 'lang': 'et'}, created_at=datetime.datetime(2020, 1, 8, 5, 20, 4), id=1214778776468500480, id_str='1214778776468500480', full_text='Special edition \\n\\nTuamotu Kingdom (1832-1843)\\n+\\nNorth Korea (1948-1992)\\n=\\nTuamotu Korea: https://t.co/mzrRbaM1qf', truncated=False, display_text_range=[0, 88], entities={'hashtags': [], 'symbols': [], 'user_mentions': [], 'urls': [], 'media': [{'id': 1214778772894965761, 'id_str': '1214778772894965761', 'indices': [89, 112], 'media_url': 'http://pbs.twimg.com/media/ENvC25cW4AECp7p.png', 'media_url_https': 'https://pbs.twimg.com/media/ENvC25cW4AECp7p.png', 'url': 'https://t.co/mzrRbaM1qf', 'display_url': 'pic.twitter.com/mzrRbaM1qf', 'expanded_url': 'https://twitter.com/FlagsMashupBot/status/1214778776468500480/photo/1', 'type': 'photo', 'sizes': {'large': {'w': 2048, 'h': 1217, 'resize': 'fit'}, 'thumb': {'w': 150, 'h': 150, 'resize': 'crop'}, 'small': {'w': 680, 'h': 404, 'resize': 'fit'}, 'medium': {'w': 1200, 'h': 713, 'resize': 'fit'}}}]}, extended_entities={'media': [{'id': 1214778772894965761, 'id_str': '1214778772894965761', 'indices': [89, 112], 'media_url': 'http://pbs.twimg.com/media/ENvC25cW4AECp7p.png', 'media_url_https': 'https://pbs.twimg.com/media/ENvC25cW4AECp7p.png', 'url': 'https://t.co/mzrRbaM1qf', 'display_url': 'pic.twitter.com/mzrRbaM1qf', 'expanded_url': 'https://twitter.com/FlagsMashupBot/status/1214778776468500480/photo/1', 'type': 'photo', 'sizes': {'large': {'w': 2048, 'h': 1217, 'resize': 'fit'}, 'thumb': {'w': 150, 'h': 150, 'resize': 'crop'}, 'small': {'w': 680, 'h': 404, 'resize': 'fit'}, 'medium': {'w': 1200, 'h': 713, 'resize': 'fit'}}}]}, source='BotFlags', source_url='https://twitter.com', in_reply_to_status_id=None, in_reply_to_status_id_str=None, in_reply_to_user_id=None, in_reply_to_user_id_str=None, in_reply_to_screen_name=None, author=User(_api=<tweepy.api.API object at 0x108233990>, _json={'id': 1162495379574857731, 'id_str': '1162495379574857731', 'name': 'Flags Mashup Bot', 'screen_name': 'FlagsMashupBot', 'location': 'Polla, Scotland', 'description': 'Automated bot that creates random flags from 2 existing flags picked randomly.\\nWritten in Python3.\\nOpen DMs for doubts or contact.', 'url': 'https://t.co/oClhcxFPr9', 'entities': {'url': {'urls': [{'url': 'https://t.co/oClhcxFPr9', 'expanded_url': 'http://flagsmashupbot.pythonanywhere.com/', 'display_url': 'flagsmashupbot.pythonanywhere.com', 'indices': [0, 23]}]}, 'description': {'urls': []}}, 'protected': False, 'followers_count': 114622, 'friends_count': 3, 'listed_count': 208, 'created_at': 'Fri Aug 16 22:44:38 +0000 2019', 'favourites_count': 187, 'utc_offset': None, 'time_zone': None, 'geo_enabled': False, 'verified': False, 'statuses_count': 13217, 'lang': None, 'contributors_enabled': False, 'is_translator': False, 'is_translation_enabled': False, 'profile_background_color': 'F5F8FA', 'profile_background_image_url': None, 'profile_background_image_url_https': None, 'profile_background_tile': False, 'profile_image_url': 'http://pbs.twimg.com/profile_images/1164632451773358080/jAImNphZ_normal.jpg', 'profile_image_url_https': 'https://pbs.twimg.com/profile_images/1164632451773358080/jAImNphZ_normal.jpg', 'profile_banner_url': 'https://pbs.twimg.com/profile_banners/1162495379574857731/1571877151', 'profile_link_color': '1DA1F2', 'profile_sidebar_border_color': 'C0DEED', 'profile_sidebar_fill_color': 'DDEEF6', 'profile_text_color': '333333', 'profile_use_background_image': True, 'has_extended_profile': False, 'default_profile': True, 'default_profile_image': False, 'following': False, 'follow_request_sent': False, 'notifications': False, 'translator_type': 'none'}, id=1162495379574857731, id_str='1162495379574857731', name='Flags Mashup Bot', screen_name='FlagsMashupBot', location='Polla, Scotland', description='Automated bot that creates random flags from 2 existing flags picked randomly.\\nWritten in Python3.\\nOpen DMs for doubts or contact.', url='https://t.co/oClhcxFPr9', entities={'url': {'urls': [{'url': 'https://t.co/oClhcxFPr9', 'expanded_url': 'http://flagsmashupbot.pythonanywhere.com/', 'display_url': 'flagsmashupbot.pythonanywhere.com', 'indices': [0, 23]}]}, 'description': {'urls': []}}, protected=False, followers_count=114622, friends_count=3, listed_count=208, created_at=datetime.datetime(2019, 8, 16, 22, 44, 38), favourites_count=187, utc_offset=None, time_zone=None, geo_enabled=False, verified=False, statuses_count=13217, lang=None, contributors_enabled=False, is_translator=False, is_translation_enabled=False, profile_background_color='F5F8FA', profile_background_image_url=None, profile_background_image_url_https=None, profile_background_tile=False, profile_image_url='http://pbs.twimg.com/profile_images/1164632451773358080/jAImNphZ_normal.jpg', profile_image_url_https='https://pbs.twimg.com/profile_images/1164632451773358080/jAImNphZ_normal.jpg', profile_banner_url='https://pbs.twimg.com/profile_banners/1162495379574857731/1571877151', profile_link_color='1DA1F2', profile_sidebar_border_color='C0DEED', profile_sidebar_fill_color='DDEEF6', profile_text_color='333333', profile_use_background_image=True, has_extended_profile=False, default_profile=True, default_profile_image=False, following=False, follow_request_sent=False, notifications=False, translator_type='none'), user=User(_api=<tweepy.api.API object at 0x108233990>, _json={'id': 1162495379574857731, 'id_str': '1162495379574857731', 'name': 'Flags Mashup Bot', 'screen_name': 'FlagsMashupBot', 'location': 'Polla, Scotland', 'description': 'Automated bot that creates random flags from 2 existing flags picked randomly.\\nWritten in Python3.\\nOpen DMs for doubts or contact.', 'url': 'https://t.co/oClhcxFPr9', 'entities': {'url': {'urls': [{'url': 'https://t.co/oClhcxFPr9', 'expanded_url': 'http://flagsmashupbot.pythonanywhere.com/', 'display_url': 'flagsmashupbot.pythonanywhere.com', 'indices': [0, 23]}]}, 'description': {'urls': []}}, 'protected': False, 'followers_count': 114622, 'friends_count': 3, 'listed_count': 208, 'created_at': 'Fri Aug 16 22:44:38 +0000 2019', 'favourites_count': 187, 'utc_offset': None, 'time_zone': None, 'geo_enabled': False, 'verified': False, 'statuses_count': 13217, 'lang': None, 'contributors_enabled': False, 'is_translator': False, 'is_translation_enabled': False, 'profile_background_color': 'F5F8FA', 'profile_background_image_url': None, 'profile_background_image_url_https': None, 'profile_background_tile': False, 'profile_image_url': 'http://pbs.twimg.com/profile_images/1164632451773358080/jAImNphZ_normal.jpg', 'profile_image_url_https': 'https://pbs.twimg.com/profile_images/1164632451773358080/jAImNphZ_normal.jpg', 'profile_banner_url': 'https://pbs.twimg.com/profile_banners/1162495379574857731/1571877151', 'profile_link_color': '1DA1F2', 'profile_sidebar_border_color': 'C0DEED', 'profile_sidebar_fill_color': 'DDEEF6', 'profile_text_color': '333333', 'profile_use_background_image': True, 'has_extended_profile': False, 'default_profile': True, 'default_profile_image': False, 'following': False, 'follow_request_sent': False, 'notifications': False, 'translator_type': 'none'}, id=1162495379574857731, id_str='1162495379574857731', name='Flags Mashup Bot', screen_name='FlagsMashupBot', location='Polla, Scotland', description='Automated bot that creates random flags from 2 existing flags picked randomly.\\nWritten in Python3.\\nOpen DMs for doubts or contact.', url='https://t.co/oClhcxFPr9', entities={'url': {'urls': [{'url': 'https://t.co/oClhcxFPr9', 'expanded_url': 'http://flagsmashupbot.pythonanywhere.com/', 'display_url': 'flagsmashupbot.pythonanywhere.com', 'indices': [0, 23]}]}, 'description': {'urls': []}}, protected=False, followers_count=114622, friends_count=3, listed_count=208, created_at=datetime.datetime(2019, 8, 16, 22, 44, 38), favourites_count=187, utc_offset=None, time_zone=None, geo_enabled=False, verified=False, statuses_count=13217, lang=None, contributors_enabled=False, is_translator=False, is_translation_enabled=False, profile_background_color='F5F8FA', profile_background_image_url=None, profile_background_image_url_https=None, profile_background_tile=False, profile_image_url='http://pbs.twimg.com/profile_images/1164632451773358080/jAImNphZ_normal.jpg', profile_image_url_https='https://pbs.twimg.com/profile_images/1164632451773358080/jAImNphZ_normal.jpg', profile_banner_url='https://pbs.twimg.com/profile_banners/1162495379574857731/1571877151', profile_link_color='1DA1F2', profile_sidebar_border_color='C0DEED', profile_sidebar_fill_color='DDEEF6', profile_text_color='333333', profile_use_background_image=True, has_extended_profile=False, default_profile=True, default_profile_image=False, following=False, follow_request_sent=False, notifications=False, translator_type='none'), geo=None, coordinates=None, place=None, contributors=None, is_quote_status=False, retweet_count=1, favorite_count=34, favorited=False, retweeted=False, possibly_sensitive=False, lang='et')]"
      ]
     },
     "execution_count": 25,
     "metadata": {},
     "output_type": "execute_result"
    }
   ],
   "source": [
    "tweets"
   ]
  },
  {
   "cell_type": "code",
   "execution_count": 23,
   "metadata": {},
   "outputs": [
    {
     "data": {
      "text/plain": [
       "[1231352986124922880,\n",
       " 1231347952804823040,\n",
       " 1231337892854845440,\n",
       " 1231332854044545026,\n",
       " 1231327819785003009,\n",
       " 1231322790395031554,\n",
       " 1231317758304014339,\n",
       " 1231312721905410048,\n",
       " 1231307691743727617,\n",
       " 1231302660952936450,\n",
       " 1231297627947446277,\n",
       " 1231292592668672003,\n",
       " 1231287556463058945,\n",
       " 1231282519271788546,\n",
       " 1231277490733289479,\n",
       " 1231272458004467712,\n",
       " 1231267424256876546,\n",
       " 1231262385765277697,\n",
       " 1231257354567593987,\n",
       " 1231252324540125184,\n",
       " 1231247291706724353,\n",
       " 1231242260261539840,\n",
       " 1231237226400567299,\n",
       " 1231232192417804288,\n",
       " 1231227158321868801,\n",
       " 1231222131935019008,\n",
       " 1231217090096517121,\n",
       " 1231212057703387137,\n",
       " 1231207024819625985,\n",
       " 1231201995677208576,\n",
       " 1231196958557134848,\n",
       " 1231191926210207747,\n",
       " 1231189234804916225,\n",
       " 1231186891766140928,\n",
       " 1231181868453724160,\n",
       " 1231176827089096704,\n",
       " 1231171795304288257,\n",
       " 1231166758649843712,\n",
       " 1231161730698502144,\n",
       " 1231156696015392768,\n",
       " 1231151664226295809,\n",
       " 1231146629555724288,\n",
       " 1231141594411261952,\n",
       " 1231136560822747136,\n",
       " 1231131527792254977,\n",
       " 1231126503431245825,\n",
       " 1231121459780739073,\n",
       " 1231116436309004290,\n",
       " 1231111395049168896,\n",
       " 1231106361959833600,\n",
       " 1231101328740552708,\n",
       " 1231096298293645312,\n",
       " 1231091261735653376,\n",
       " 1231086226322657281,\n",
       " 1231081194919469056,\n",
       " 1231076162723569665,\n",
       " 1231071129814564864,\n",
       " 1231066094422634497,\n",
       " 1231061062029541382,\n",
       " 1231056037802905602,\n",
       " 1231050998023585792,\n",
       " 1231045961964773376,\n",
       " 1231040929932419072,\n",
       " 1231035899384823809,\n",
       " 1231030862440992770,\n",
       " 1231025829129248768,\n",
       " 1231020797977939968,\n",
       " 1231015774397124608,\n",
       " 1231010731040149505,\n",
       " 1231007680950607873,\n",
       " 1231007251940478976,\n",
       " 1231005703248269315,\n",
       " 1231000664374947841,\n",
       " 1230995636864143365,\n",
       " 1230990602021613568,\n",
       " 1230985570811334657,\n",
       " 1230980533838106629,\n",
       " 1230975504632688642,\n",
       " 1230970466749337601,\n",
       " 1230965435232858112,\n",
       " 1230960404249169922,\n",
       " 1230955366709649413,\n",
       " 1230950347952312320,\n",
       " 1230945305811673089,\n",
       " 1230940264639975437,\n",
       " 1230935234222358539,\n",
       " 1230930204136222721,\n",
       " 1230925169541156865,\n",
       " 1230920136967806976,\n",
       " 1230915103295524864,\n",
       " 1230910071900659714,\n",
       " 1230905038341574659,\n",
       " 1230900003125764096,\n",
       " 1230894968639754246,\n",
       " 1230889942601150468,\n",
       " 1230884904885530626,\n",
       " 1230879870110052360,\n",
       " 1230874835263393793,\n",
       " 1230869806867472384,\n",
       " 1230864769512546305]"
      ]
     },
     "execution_count": 23,
     "metadata": {},
     "output_type": "execute_result"
    }
   ],
   "source": [
    "tweets = api.user_timeline(since_id=100, **api_kwargs)\n",
    "[t.id for t in tweets]"
   ]
  },
  {
   "cell_type": "markdown",
   "metadata": {},
   "source": [
    "#### download images from urls"
   ]
  },
  {
   "cell_type": "code",
   "execution_count": 13,
   "metadata": {},
   "outputs": [
    {
     "name": "stderr",
     "output_type": "stream",
     "text": [
      "100% (3223 of 3223) |####################| Elapsed Time: 0:01:18 Time:  0:01:18\n"
     ]
    }
   ],
   "source": [
    "for media in progressbar(images_urls):    \n",
    "    file_ext = media['media_url'].split('.')[-1]\n",
    "    file_name = '{}.{}'.format(media['tweet_id'], file_ext)\n",
    "    file_path = '{}/{}'.format(data_path, file_name)\n",
    "#     urllib.request.urlretrieve(media['media_url'], file_path)\n",
    "#     ----\n",
    "#     r = requests.get(media['media_url'])\n",
    "#     open(file_path, 'wb').write(r.content)\n",
    "    current_media = os.listdir(data_path)\n",
    "    if file_name not in current_media:\n",
    "        os.system('wget -O {} {}'.format(file_path, media['media_url']))\n",
    "#         time.sleep(0.1)\n",
    "    "
   ]
  },
  {
   "cell_type": "code",
   "execution_count": null,
   "metadata": {},
   "outputs": [],
   "source": []
  },
  {
   "cell_type": "code",
   "execution_count": null,
   "metadata": {},
   "outputs": [],
   "source": []
  }
 ],
 "metadata": {
  "kernelspec": {
   "display_name": "Python 3",
   "language": "python",
   "name": "python3"
  },
  "language_info": {
   "codemirror_mode": {
    "name": "ipython",
    "version": 3
   },
   "file_extension": ".py",
   "mimetype": "text/x-python",
   "name": "python",
   "nbconvert_exporter": "python",
   "pygments_lexer": "ipython3",
   "version": "3.7.6"
  }
 },
 "nbformat": 4,
 "nbformat_minor": 4
}
