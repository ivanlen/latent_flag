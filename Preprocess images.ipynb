{
 "cells": [
  {
   "cell_type": "code",
   "execution_count": 1,
   "metadata": {},
   "outputs": [],
   "source": [
    "from PIL import Image\n",
    "import numpy as np\n",
    "import os\n",
    "from progressbar import progressbar"
   ]
  },
  {
   "cell_type": "code",
   "execution_count": 2,
   "metadata": {},
   "outputs": [],
   "source": [
    "def add_margin(pil_img, top, right, bottom, left):\n",
    "    width, height = pil_img.size\n",
    "    new_width = width + right + left\n",
    "    new_height = height + top + bottom\n",
    "    result = Image.new('RGBA', (new_width, new_height), color='black')\n",
    "    result.paste(pil_img.convert('RGBA'), (left, top))\n",
    "    return result\n",
    "\n",
    "def resize_width_keep_ratio(image, new_w):\n",
    "    old_w = image.size[0]\n",
    "    factor = new_w / old_w\n",
    "    new_h = int(image.size[1] * factor)\n",
    "    image = image.resize((new_w, new_h))\n",
    "    return image\n",
    "\n",
    "def compute_paddings(image, new_shape):\n",
    "    pad = int(np.floor((new_shape - image.size[1])/2))\n",
    "    bot_pad = pad\n",
    "    if 2*pad + image.size[1] < new_shape:\n",
    "        missing = new_shape - (2*pad + image.size[1])\n",
    "        top_pad = pad + missing\n",
    "        return pad + missing, pad\n",
    "    return pad, pad\n",
    "        \n",
    "\n"
   ]
  },
  {
   "cell_type": "code",
   "execution_count": 3,
   "metadata": {},
   "outputs": [],
   "source": [
    "# im_new = add_margin(im, 50, 10, 0, 100, (0, 0, 0))"
   ]
  },
  {
   "cell_type": "code",
   "execution_count": 16,
   "metadata": {},
   "outputs": [],
   "source": [
    "load_path = './data/FlagsMashupBot/raw/'\n",
    "save_path = './data/FlagsMashupBot/square_png/'\n",
    "os.makedirs(save_path, exist_ok=True)\n",
    "files = [f for f in os.listdir(load_path) if not f.startswith('.')]"
   ]
  },
  {
   "cell_type": "code",
   "execution_count": 7,
   "metadata": {},
   "outputs": [],
   "source": [
    "# im = Image.open(load_path + files[10])\n",
    "# im.size"
   ]
  },
  {
   "cell_type": "code",
   "execution_count": 9,
   "metadata": {},
   "outputs": [
    {
     "name": "stderr",
     "output_type": "stream",
     "text": [
      "100% (1089 of 1089) |####################| Elapsed Time: 0:00:00 Time:  0:00:00\n"
     ]
    }
   ],
   "source": [
    "shapes = []\n",
    "for image_file in progressbar(files):\n",
    "    im = Image.open(load_path + image_file)    \n",
    "    shapes.append(im.size)\n",
    "    "
   ]
  },
  {
   "cell_type": "code",
   "execution_count": 10,
   "metadata": {},
   "outputs": [
    {
     "name": "stdout",
     "output_type": "stream",
     "text": [
      "1200 1200\n"
     ]
    }
   ],
   "source": [
    "max_w = max([s[0] for s in shapes])\n",
    "max_h = max([s[1] for s in shapes])\n",
    "print(max_w, max_h)"
   ]
  },
  {
   "cell_type": "code",
   "execution_count": 19,
   "metadata": {},
   "outputs": [
    {
     "name": "stderr",
     "output_type": "stream",
     "text": [
      "100% (1089 of 1089) |####################| Elapsed Time: 0:01:27 Time:  0:01:27\n"
     ]
    }
   ],
   "source": [
    "new_shape = 1024\n",
    "im_format = 'png'\n",
    "shapes = []\n",
    "for image_file in progressbar(files):\n",
    "    im = Image.open(load_path + image_file)    \n",
    "    im = resize_width_keep_ratio(im, new_shape)\n",
    "    top_pad, bot_pad = compute_paddings(im, new_shape)\n",
    "    im = add_margin(im, top_pad, 0, bot_pad, 0)\n",
    "    \n",
    "    im_name = image_file.split('.')[0]\n",
    "    im_path_w_format = '{}{}.{}'.format(save_path, im_name, im_format)\n",
    "    im.save(im_path_w_format)"
   ]
  },
  {
   "cell_type": "code",
   "execution_count": null,
   "metadata": {},
   "outputs": [],
   "source": []
  }
 ],
 "metadata": {
  "kernelspec": {
   "display_name": "Python 3",
   "language": "python",
   "name": "python3"
  },
  "language_info": {
   "codemirror_mode": {
    "name": "ipython",
    "version": 3
   },
   "file_extension": ".py",
   "mimetype": "text/x-python",
   "name": "python",
   "nbconvert_exporter": "python",
   "pygments_lexer": "ipython3",
   "version": "3.7.6"
  }
 },
 "nbformat": 4,
 "nbformat_minor": 4
}
