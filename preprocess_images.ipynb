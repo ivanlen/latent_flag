{
 "cells": [
  {
   "cell_type": "code",
   "execution_count": 50,
   "metadata": {},
   "outputs": [],
   "source": [
    "from PIL import Image\n",
    "import numpy as np\n",
    "import os\n",
    "from progressbar import progressbar\n",
    "from shutil import copyfile"
   ]
  },
  {
   "cell_type": "code",
   "execution_count": 51,
   "metadata": {},
   "outputs": [],
   "source": [
    "def add_margin(pil_img, top, right, bottom, left):\n",
    "    width, height = pil_img.size\n",
    "    new_width = width + right + left\n",
    "    new_height = height + top + bottom\n",
    "    result = Image.new('RGBA', (new_width, new_height), color='black')\n",
    "    result.paste(pil_img.convert('RGBA'), (left, top))\n",
    "    return result\n",
    "\n",
    "def resize_width_keep_ratio(image, new_w):\n",
    "    old_w = image.size[0]\n",
    "    factor = new_w / old_w\n",
    "    new_h = int(image.size[1] * factor)\n",
    "    image = image.resize((new_w, new_h))\n",
    "    return image\n",
    "\n",
    "def compute_paddings(image, new_shape):\n",
    "    pad = int(np.floor((new_shape - image.size[1])/2))\n",
    "    bot_pad = pad\n",
    "    if 2*pad + image.size[1] < new_shape:\n",
    "        missing = new_shape - (2*pad + image.size[1])\n",
    "        top_pad = pad + missing\n",
    "        return pad + missing, pad\n",
    "    return pad, pad\n",
    "        \n",
    "\n"
   ]
  },
  {
   "cell_type": "code",
   "execution_count": 52,
   "metadata": {},
   "outputs": [],
   "source": [
    "# im_new = add_margin(im, 50, 10, 0, 100, (0, 0, 0))"
   ]
  },
  {
   "cell_type": "code",
   "execution_count": 60,
   "metadata": {},
   "outputs": [
    {
     "data": {
      "text/plain": [
       "2688"
      ]
     },
     "execution_count": 60,
     "metadata": {},
     "output_type": "execute_result"
    }
   ],
   "source": [
    "load_path = './data/FlagsMashupBot/raw_local/'\n",
    "save_path = './data/FlagsMashupBot/square_png/'\n",
    "os.makedirs(save_path, exist_ok=True)\n",
    "files = [f for f in os.listdir(load_path) if not f.startswith('.')]\n",
    "len(files)"
   ]
  },
  {
   "cell_type": "code",
   "execution_count": 61,
   "metadata": {},
   "outputs": [],
   "source": [
    "# im = Image.open(load_path + files[10])\n",
    "# im.size"
   ]
  },
  {
   "cell_type": "code",
   "execution_count": 62,
   "metadata": {},
   "outputs": [
    {
     "name": "stderr",
     "output_type": "stream",
     "text": [
      "100% (2688 of 2688) |####################| Elapsed Time: 0:00:00 Time:  0:00:00\n"
     ]
    }
   ],
   "source": [
    "shapes = []\n",
    "valid_files = []\n",
    "for image_file in progressbar(files):\n",
    "    try:\n",
    "        im = Image.open(load_path + image_file)    \n",
    "        shapes.append(im.size)\n",
    "        valid_files.append(image_file)\n",
    "    except:\n",
    "        pass\n",
    "    "
   ]
  },
  {
   "cell_type": "code",
   "execution_count": 63,
   "metadata": {},
   "outputs": [
    {
     "name": "stdout",
     "output_type": "stream",
     "text": [
      "4800 4000\n"
     ]
    }
   ],
   "source": [
    "max_w = max([s[0] for s in shapes])\n",
    "max_h = max([s[1] for s in shapes])\n",
    "print(max_w, max_h)"
   ]
  },
  {
   "cell_type": "code",
   "execution_count": 64,
   "metadata": {},
   "outputs": [
    {
     "name": "stderr",
     "output_type": "stream",
     "text": [
      "100% (2688 of 2688) |####################| Elapsed Time: 0:09:06 Time:  0:09:06\n"
     ]
    }
   ],
   "source": [
    "new_shape = 256\n",
    "im_format = 'png'\n",
    "shapes = []\n",
    "for image_file in progressbar(valid_files):\n",
    "    im = Image.open(load_path + image_file)    \n",
    "    im = resize_width_keep_ratio(im, new_shape)\n",
    "    top_pad, bot_pad = compute_paddings(im, new_shape)\n",
    "    im = add_margin(im, top_pad, 0, bot_pad, 0)\n",
    "    im_name = image_file.split('.')[0]\n",
    "    im_path_w_format = '{}{}.{}'.format(save_path, im_name, im_format)\n",
    "    im.save(im_path_w_format)"
   ]
  },
  {
   "cell_type": "markdown",
   "metadata": {},
   "source": [
    "### train_val_test split"
   ]
  },
  {
   "cell_type": "code",
   "execution_count": 65,
   "metadata": {},
   "outputs": [],
   "source": [
    "save_path = './data/FlagsMashupBot/square_png/'\n",
    "train_path = './data/FlagsMashupBot/autoencoder_images/'\n",
    "square_files = [f for f in os.listdir(save_path) if not f.startswith('.')]"
   ]
  },
  {
   "cell_type": "code",
   "execution_count": 66,
   "metadata": {},
   "outputs": [
    {
     "data": {
      "text/plain": [
       "6115"
      ]
     },
     "execution_count": 66,
     "metadata": {},
     "output_type": "execute_result"
    }
   ],
   "source": [
    "len(square_files)"
   ]
  },
  {
   "cell_type": "code",
   "execution_count": 74,
   "metadata": {},
   "outputs": [],
   "source": [
    "np.random.shuffle(square_files)"
   ]
  },
  {
   "cell_type": "code",
   "execution_count": 78,
   "metadata": {},
   "outputs": [],
   "source": [
    "tr_cut = int(len(square_files) * 0.82)\n",
    "# val_cut = int(len(square_files) * 0.8)"
   ]
  },
  {
   "cell_type": "code",
   "execution_count": 79,
   "metadata": {},
   "outputs": [],
   "source": [
    "train_files = square_files[:tr_cut]\n",
    "valid_files = square_files[tr_cut:]\n",
    "# valid_files = square_files[tr_cut:val_cut]\n",
    "# test_files = square_files[val_cut:]"
   ]
  },
  {
   "cell_type": "code",
   "execution_count": 80,
   "metadata": {},
   "outputs": [],
   "source": [
    "# for dest, files in zip(['train', 'val', 'test'], [train_files, valid_files, test_files]):\n",
    "for dest, files in zip(['train', 'val'], [train_files, valid_files]):\n",
    "    path = '{}/{}/0/'.format(train_path, dest)\n",
    "    os.makedirs(path, exist_ok=True)\n",
    "    for f in files:\n",
    "        src_file = save_path + '/' + f\n",
    "        dest_file = path + f\n",
    "#         print(src_file, dest_file)\n",
    "        copyfile(src_file, dest_file)"
   ]
  }
 ],
 "metadata": {
  "kernelspec": {
   "display_name": "Python 3",
   "language": "python",
   "name": "python3"
  },
  "language_info": {
   "codemirror_mode": {
    "name": "ipython",
    "version": 3
   },
   "file_extension": ".py",
   "mimetype": "text/x-python",
   "name": "python",
   "nbconvert_exporter": "python",
   "pygments_lexer": "ipython3",
   "version": "3.7.6"
  }
 },
 "nbformat": 4,
 "nbformat_minor": 4
}
